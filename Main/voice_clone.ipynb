{
 "cells": [
  {
   "cell_type": "markdown",
   "metadata": {},
   "source": [
    "# VOICE CLONE"
   ]
  },
  {
   "cell_type": "code",
   "execution_count": 11,
   "metadata": {},
   "outputs": [],
   "source": [
    "from pytube import YouTube\n",
    "import urllib.parse as up\n",
    "import requests\n",
    "import whisper"
   ]
  },
  {
   "cell_type": "code",
   "execution_count": 10,
   "metadata": {},
   "outputs": [
    {
     "ename": "HTTPError",
     "evalue": "HTTP Error 403: Forbidden",
     "output_type": "error",
     "traceback": [
      "\u001b[31m---------------------------------------------------------------------------\u001b[39m",
      "\u001b[31mHTTPError\u001b[39m                                 Traceback (most recent call last)",
      "\u001b[36mCell\u001b[39m\u001b[36m \u001b[39m\u001b[32mIn[10]\u001b[39m\u001b[32m, line 16\u001b[39m\n\u001b[32m     14\u001b[39m \u001b[38;5;28;01mif\u001b[39;00m response.status_code == \u001b[32m200\u001b[39m:\n\u001b[32m     15\u001b[39m     yt = YouTube(video_url)\n\u001b[32m---> \u001b[39m\u001b[32m16\u001b[39m     video = \u001b[43myt\u001b[49m\u001b[43m.\u001b[49m\u001b[43mstreams\u001b[49m.get_highest_resolution()\n\u001b[32m     17\u001b[39m     video.download()\n\u001b[32m     18\u001b[39m \u001b[38;5;28;01melse\u001b[39;00m:\n",
      "\u001b[36mFile \u001b[39m\u001b[32m~/miniconda3/envs/vllm_env/lib/python3.11/site-packages/pytube/__main__.py:296\u001b[39m, in \u001b[36mYouTube.streams\u001b[39m\u001b[34m(self)\u001b[39m\n\u001b[32m    291\u001b[39m \u001b[38;5;250m\u001b[39m\u001b[33;03m\"\"\"Interface to query both adaptive (DASH) and progressive streams.\u001b[39;00m\n\u001b[32m    292\u001b[39m \n\u001b[32m    293\u001b[39m \u001b[33;03m:rtype: :class:`StreamQuery <StreamQuery>`.\u001b[39;00m\n\u001b[32m    294\u001b[39m \u001b[33;03m\"\"\"\u001b[39;00m\n\u001b[32m    295\u001b[39m \u001b[38;5;28mself\u001b[39m.check_availability()\n\u001b[32m--> \u001b[39m\u001b[32m296\u001b[39m \u001b[38;5;28;01mreturn\u001b[39;00m StreamQuery(\u001b[38;5;28;43mself\u001b[39;49m\u001b[43m.\u001b[49m\u001b[43mfmt_streams\u001b[49m)\n",
      "\u001b[36mFile \u001b[39m\u001b[32m~/miniconda3/envs/vllm_env/lib/python3.11/site-packages/pytube/__main__.py:176\u001b[39m, in \u001b[36mYouTube.fmt_streams\u001b[39m\u001b[34m(self)\u001b[39m\n\u001b[32m    172\u001b[39m     \u001b[38;5;28;01mreturn\u001b[39;00m \u001b[38;5;28mself\u001b[39m._fmt_streams\n\u001b[32m    174\u001b[39m \u001b[38;5;28mself\u001b[39m._fmt_streams = []\n\u001b[32m--> \u001b[39m\u001b[32m176\u001b[39m stream_manifest = extract.apply_descrambler(\u001b[38;5;28;43mself\u001b[39;49m\u001b[43m.\u001b[49m\u001b[43mstreaming_data\u001b[49m)\n\u001b[32m    178\u001b[39m \u001b[38;5;66;03m# If the cached js doesn't work, try fetching a new js file\u001b[39;00m\n\u001b[32m    179\u001b[39m \u001b[38;5;66;03m# https://github.com/pytube/pytube/issues/1054\u001b[39;00m\n\u001b[32m    180\u001b[39m \u001b[38;5;28;01mtry\u001b[39;00m:\n",
      "\u001b[36mFile \u001b[39m\u001b[32m~/miniconda3/envs/vllm_env/lib/python3.11/site-packages/pytube/__main__.py:160\u001b[39m, in \u001b[36mYouTube.streaming_data\u001b[39m\u001b[34m(self)\u001b[39m\n\u001b[32m    158\u001b[39m     \u001b[38;5;28;01mreturn\u001b[39;00m \u001b[38;5;28mself\u001b[39m.vid_info[\u001b[33m'\u001b[39m\u001b[33mstreamingData\u001b[39m\u001b[33m'\u001b[39m]\n\u001b[32m    159\u001b[39m \u001b[38;5;28;01melse\u001b[39;00m:\n\u001b[32m--> \u001b[39m\u001b[32m160\u001b[39m     \u001b[38;5;28;43mself\u001b[39;49m\u001b[43m.\u001b[49m\u001b[43mbypass_age_gate\u001b[49m\u001b[43m(\u001b[49m\u001b[43m)\u001b[49m\n\u001b[32m    161\u001b[39m     \u001b[38;5;28;01mreturn\u001b[39;00m \u001b[38;5;28mself\u001b[39m.vid_info[\u001b[33m'\u001b[39m\u001b[33mstreamingData\u001b[39m\u001b[33m'\u001b[39m]\n",
      "\u001b[36mFile \u001b[39m\u001b[32m~/miniconda3/envs/vllm_env/lib/python3.11/site-packages/pytube/__main__.py:257\u001b[39m, in \u001b[36mYouTube.bypass_age_gate\u001b[39m\u001b[34m(self)\u001b[39m\n\u001b[32m    251\u001b[39m \u001b[38;5;250m\u001b[39m\u001b[33;03m\"\"\"Attempt to update the vid_info by bypassing the age gate.\"\"\"\u001b[39;00m\n\u001b[32m    252\u001b[39m innertube = InnerTube(\n\u001b[32m    253\u001b[39m     client=\u001b[33m'\u001b[39m\u001b[33mANDROID_EMBED\u001b[39m\u001b[33m'\u001b[39m,\n\u001b[32m    254\u001b[39m     use_oauth=\u001b[38;5;28mself\u001b[39m.use_oauth,\n\u001b[32m    255\u001b[39m     allow_cache=\u001b[38;5;28mself\u001b[39m.allow_oauth_cache\n\u001b[32m    256\u001b[39m )\n\u001b[32m--> \u001b[39m\u001b[32m257\u001b[39m innertube_response = \u001b[43minnertube\u001b[49m\u001b[43m.\u001b[49m\u001b[43mplayer\u001b[49m\u001b[43m(\u001b[49m\u001b[38;5;28;43mself\u001b[39;49m\u001b[43m.\u001b[49m\u001b[43mvideo_id\u001b[49m\u001b[43m)\u001b[49m\n\u001b[32m    259\u001b[39m playability_status = innertube_response[\u001b[33m'\u001b[39m\u001b[33mplayabilityStatus\u001b[39m\u001b[33m'\u001b[39m].get(\u001b[33m'\u001b[39m\u001b[33mstatus\u001b[39m\u001b[33m'\u001b[39m, \u001b[38;5;28;01mNone\u001b[39;00m)\n\u001b[32m    261\u001b[39m \u001b[38;5;66;03m# If we still can't access the video, raise an exception\u001b[39;00m\n\u001b[32m    262\u001b[39m \u001b[38;5;66;03m# (tier 3 age restriction)\u001b[39;00m\n",
      "\u001b[36mFile \u001b[39m\u001b[32m~/miniconda3/envs/vllm_env/lib/python3.11/site-packages/pytube/innertube.py:448\u001b[39m, in \u001b[36mInnerTube.player\u001b[39m\u001b[34m(self, video_id)\u001b[39m\n\u001b[32m    444\u001b[39m query = {\n\u001b[32m    445\u001b[39m     \u001b[33m'\u001b[39m\u001b[33mvideoId\u001b[39m\u001b[33m'\u001b[39m: video_id,\n\u001b[32m    446\u001b[39m }\n\u001b[32m    447\u001b[39m query.update(\u001b[38;5;28mself\u001b[39m.base_params)\n\u001b[32m--> \u001b[39m\u001b[32m448\u001b[39m \u001b[38;5;28;01mreturn\u001b[39;00m \u001b[38;5;28;43mself\u001b[39;49m\u001b[43m.\u001b[49m\u001b[43m_call_api\u001b[49m\u001b[43m(\u001b[49m\u001b[43mendpoint\u001b[49m\u001b[43m,\u001b[49m\u001b[43m \u001b[49m\u001b[43mquery\u001b[49m\u001b[43m,\u001b[49m\u001b[43m \u001b[49m\u001b[38;5;28;43mself\u001b[39;49m\u001b[43m.\u001b[49m\u001b[43mbase_data\u001b[49m\u001b[43m)\u001b[49m\n",
      "\u001b[36mFile \u001b[39m\u001b[32m~/miniconda3/envs/vllm_env/lib/python3.11/site-packages/pytube/innertube.py:390\u001b[39m, in \u001b[36mInnerTube._call_api\u001b[39m\u001b[34m(self, endpoint, query, data)\u001b[39m\n\u001b[32m    386\u001b[39m         headers[\u001b[33m'\u001b[39m\u001b[33mAuthorization\u001b[39m\u001b[33m'\u001b[39m] = \u001b[33mf\u001b[39m\u001b[33m'\u001b[39m\u001b[33mBearer \u001b[39m\u001b[38;5;132;01m{\u001b[39;00m\u001b[38;5;28mself\u001b[39m.access_token\u001b[38;5;132;01m}\u001b[39;00m\u001b[33m'\u001b[39m\n\u001b[32m    388\u001b[39m headers.update(\u001b[38;5;28mself\u001b[39m.header)\n\u001b[32m--> \u001b[39m\u001b[32m390\u001b[39m response = \u001b[43mrequest\u001b[49m\u001b[43m.\u001b[49m\u001b[43m_execute_request\u001b[49m\u001b[43m(\u001b[49m\n\u001b[32m    391\u001b[39m \u001b[43m    \u001b[49m\u001b[43mendpoint_url\u001b[49m\u001b[43m,\u001b[49m\n\u001b[32m    392\u001b[39m \u001b[43m    \u001b[49m\u001b[33;43m'\u001b[39;49m\u001b[33;43mPOST\u001b[39;49m\u001b[33;43m'\u001b[39;49m\u001b[43m,\u001b[49m\n\u001b[32m    393\u001b[39m \u001b[43m    \u001b[49m\u001b[43mheaders\u001b[49m\u001b[43m=\u001b[49m\u001b[43mheaders\u001b[49m\u001b[43m,\u001b[49m\n\u001b[32m    394\u001b[39m \u001b[43m    \u001b[49m\u001b[43mdata\u001b[49m\u001b[43m=\u001b[49m\u001b[43mdata\u001b[49m\n\u001b[32m    395\u001b[39m \u001b[43m\u001b[49m\u001b[43m)\u001b[49m\n\u001b[32m    396\u001b[39m \u001b[38;5;28;01mreturn\u001b[39;00m json.loads(response.read())\n",
      "\u001b[36mFile \u001b[39m\u001b[32m~/miniconda3/envs/vllm_env/lib/python3.11/site-packages/pytube/request.py:37\u001b[39m, in \u001b[36m_execute_request\u001b[39m\u001b[34m(url, method, headers, data, timeout)\u001b[39m\n\u001b[32m     35\u001b[39m \u001b[38;5;28;01melse\u001b[39;00m:\n\u001b[32m     36\u001b[39m     \u001b[38;5;28;01mraise\u001b[39;00m \u001b[38;5;167;01mValueError\u001b[39;00m(\u001b[33m\"\u001b[39m\u001b[33mInvalid URL\u001b[39m\u001b[33m\"\u001b[39m)\n\u001b[32m---> \u001b[39m\u001b[32m37\u001b[39m \u001b[38;5;28;01mreturn\u001b[39;00m \u001b[43murlopen\u001b[49m\u001b[43m(\u001b[49m\u001b[43mrequest\u001b[49m\u001b[43m,\u001b[49m\u001b[43m \u001b[49m\u001b[43mtimeout\u001b[49m\u001b[43m=\u001b[49m\u001b[43mtimeout\u001b[49m\u001b[43m)\u001b[49m\n",
      "\u001b[36mFile \u001b[39m\u001b[32m~/miniconda3/envs/vllm_env/lib/python3.11/urllib/request.py:216\u001b[39m, in \u001b[36murlopen\u001b[39m\u001b[34m(url, data, timeout, cafile, capath, cadefault, context)\u001b[39m\n\u001b[32m    214\u001b[39m \u001b[38;5;28;01melse\u001b[39;00m:\n\u001b[32m    215\u001b[39m     opener = _opener\n\u001b[32m--> \u001b[39m\u001b[32m216\u001b[39m \u001b[38;5;28;01mreturn\u001b[39;00m \u001b[43mopener\u001b[49m\u001b[43m.\u001b[49m\u001b[43mopen\u001b[49m\u001b[43m(\u001b[49m\u001b[43murl\u001b[49m\u001b[43m,\u001b[49m\u001b[43m \u001b[49m\u001b[43mdata\u001b[49m\u001b[43m,\u001b[49m\u001b[43m \u001b[49m\u001b[43mtimeout\u001b[49m\u001b[43m)\u001b[49m\n",
      "\u001b[36mFile \u001b[39m\u001b[32m~/miniconda3/envs/vllm_env/lib/python3.11/urllib/request.py:525\u001b[39m, in \u001b[36mOpenerDirector.open\u001b[39m\u001b[34m(self, fullurl, data, timeout)\u001b[39m\n\u001b[32m    523\u001b[39m \u001b[38;5;28;01mfor\u001b[39;00m processor \u001b[38;5;129;01min\u001b[39;00m \u001b[38;5;28mself\u001b[39m.process_response.get(protocol, []):\n\u001b[32m    524\u001b[39m     meth = \u001b[38;5;28mgetattr\u001b[39m(processor, meth_name)\n\u001b[32m--> \u001b[39m\u001b[32m525\u001b[39m     response = \u001b[43mmeth\u001b[49m\u001b[43m(\u001b[49m\u001b[43mreq\u001b[49m\u001b[43m,\u001b[49m\u001b[43m \u001b[49m\u001b[43mresponse\u001b[49m\u001b[43m)\u001b[49m\n\u001b[32m    527\u001b[39m \u001b[38;5;28;01mreturn\u001b[39;00m response\n",
      "\u001b[36mFile \u001b[39m\u001b[32m~/miniconda3/envs/vllm_env/lib/python3.11/urllib/request.py:634\u001b[39m, in \u001b[36mHTTPErrorProcessor.http_response\u001b[39m\u001b[34m(self, request, response)\u001b[39m\n\u001b[32m    631\u001b[39m \u001b[38;5;66;03m# According to RFC 2616, \"2xx\" code indicates that the client's\u001b[39;00m\n\u001b[32m    632\u001b[39m \u001b[38;5;66;03m# request was successfully received, understood, and accepted.\u001b[39;00m\n\u001b[32m    633\u001b[39m \u001b[38;5;28;01mif\u001b[39;00m \u001b[38;5;129;01mnot\u001b[39;00m (\u001b[32m200\u001b[39m <= code < \u001b[32m300\u001b[39m):\n\u001b[32m--> \u001b[39m\u001b[32m634\u001b[39m     response = \u001b[38;5;28;43mself\u001b[39;49m\u001b[43m.\u001b[49m\u001b[43mparent\u001b[49m\u001b[43m.\u001b[49m\u001b[43merror\u001b[49m\u001b[43m(\u001b[49m\n\u001b[32m    635\u001b[39m \u001b[43m        \u001b[49m\u001b[33;43m'\u001b[39;49m\u001b[33;43mhttp\u001b[39;49m\u001b[33;43m'\u001b[39;49m\u001b[43m,\u001b[49m\u001b[43m \u001b[49m\u001b[43mrequest\u001b[49m\u001b[43m,\u001b[49m\u001b[43m \u001b[49m\u001b[43mresponse\u001b[49m\u001b[43m,\u001b[49m\u001b[43m \u001b[49m\u001b[43mcode\u001b[49m\u001b[43m,\u001b[49m\u001b[43m \u001b[49m\u001b[43mmsg\u001b[49m\u001b[43m,\u001b[49m\u001b[43m \u001b[49m\u001b[43mhdrs\u001b[49m\u001b[43m)\u001b[49m\n\u001b[32m    637\u001b[39m \u001b[38;5;28;01mreturn\u001b[39;00m response\n",
      "\u001b[36mFile \u001b[39m\u001b[32m~/miniconda3/envs/vllm_env/lib/python3.11/urllib/request.py:563\u001b[39m, in \u001b[36mOpenerDirector.error\u001b[39m\u001b[34m(self, proto, *args)\u001b[39m\n\u001b[32m    561\u001b[39m \u001b[38;5;28;01mif\u001b[39;00m http_err:\n\u001b[32m    562\u001b[39m     args = (\u001b[38;5;28mdict\u001b[39m, \u001b[33m'\u001b[39m\u001b[33mdefault\u001b[39m\u001b[33m'\u001b[39m, \u001b[33m'\u001b[39m\u001b[33mhttp_error_default\u001b[39m\u001b[33m'\u001b[39m) + orig_args\n\u001b[32m--> \u001b[39m\u001b[32m563\u001b[39m     \u001b[38;5;28;01mreturn\u001b[39;00m \u001b[38;5;28;43mself\u001b[39;49m\u001b[43m.\u001b[49m\u001b[43m_call_chain\u001b[49m\u001b[43m(\u001b[49m\u001b[43m*\u001b[49m\u001b[43margs\u001b[49m\u001b[43m)\u001b[49m\n",
      "\u001b[36mFile \u001b[39m\u001b[32m~/miniconda3/envs/vllm_env/lib/python3.11/urllib/request.py:496\u001b[39m, in \u001b[36mOpenerDirector._call_chain\u001b[39m\u001b[34m(self, chain, kind, meth_name, *args)\u001b[39m\n\u001b[32m    494\u001b[39m \u001b[38;5;28;01mfor\u001b[39;00m handler \u001b[38;5;129;01min\u001b[39;00m handlers:\n\u001b[32m    495\u001b[39m     func = \u001b[38;5;28mgetattr\u001b[39m(handler, meth_name)\n\u001b[32m--> \u001b[39m\u001b[32m496\u001b[39m     result = \u001b[43mfunc\u001b[49m\u001b[43m(\u001b[49m\u001b[43m*\u001b[49m\u001b[43margs\u001b[49m\u001b[43m)\u001b[49m\n\u001b[32m    497\u001b[39m     \u001b[38;5;28;01mif\u001b[39;00m result \u001b[38;5;129;01mis\u001b[39;00m \u001b[38;5;129;01mnot\u001b[39;00m \u001b[38;5;28;01mNone\u001b[39;00m:\n\u001b[32m    498\u001b[39m         \u001b[38;5;28;01mreturn\u001b[39;00m result\n",
      "\u001b[36mFile \u001b[39m\u001b[32m~/miniconda3/envs/vllm_env/lib/python3.11/urllib/request.py:643\u001b[39m, in \u001b[36mHTTPDefaultErrorHandler.http_error_default\u001b[39m\u001b[34m(self, req, fp, code, msg, hdrs)\u001b[39m\n\u001b[32m    642\u001b[39m \u001b[38;5;28;01mdef\u001b[39;00m\u001b[38;5;250m \u001b[39m\u001b[34mhttp_error_default\u001b[39m(\u001b[38;5;28mself\u001b[39m, req, fp, code, msg, hdrs):\n\u001b[32m--> \u001b[39m\u001b[32m643\u001b[39m     \u001b[38;5;28;01mraise\u001b[39;00m HTTPError(req.full_url, code, msg, hdrs, fp)\n",
      "\u001b[31mHTTPError\u001b[39m: HTTP Error 403: Forbidden"
     ]
    }
   ],
   "source": [
    "def get_real_url(video_url):\n",
    "    yt = YouTube(video_url)\n",
    "    stream = yt.streams.filter(progressive=True, file_extension=\"mp4\").first()\n",
    "    if \"signatureCipher\" in stream.url:\n",
    "        parsed_url = up.parse_qs(up.urlparse(stream.url).query)\n",
    "        return parsed_url[\"url\"][0] + \"&sig=\" + parsed_url[\"s\"][0]\n",
    "    return stream.url\n",
    "\n",
    "headers = {\n",
    "    \"User-Agent\": \"Mozilla/5.0 (Windows NT 10.0; Win64; x64) AppleWebKit/537.36 (KHTML, like Gecko) Chrome/91.0.4472.124 Safari/537.36\"\n",
    "}\n",
    "video_url = 'https://www.youtube.com/watch?v=8Bswl4GQK6o'\n",
    "response = requests.get(video_url, headers=headers)\n",
    "if response.status_code == 200:\n",
    "    yt = YouTube(video_url)\n",
    "    video = yt.streams.get_highest_resolution()\n",
    "    video.download()\n",
    "else:\n",
    "    print(\"403 Forbidden - Access Denied\")\n",
    "\n",
    "# yt = YouTube('https://www.youtube.com/watch?v=8Bswl4GQK6o')\n",
    "\n",
    "# yt.streams.filter(only_audio=True).first().download(\n",
    "#     output_path='./data', filename='input.mp3')"
   ]
  },
  {
   "cell_type": "code",
   "execution_count": 12,
   "metadata": {},
   "outputs": [
    {
     "name": "stderr",
     "output_type": "stream",
     "text": [
      "100%|███████████████████████████████████████| 461M/461M [00:05<00:00, 81.2MiB/s]\n",
      "/home/user/miniconda3/envs/vllm_env/lib/python3.11/site-packages/whisper/__init__.py:150: FutureWarning: You are using `torch.load` with `weights_only=False` (the current default value), which uses the default pickle module implicitly. It is possible to construct malicious pickle data which will execute arbitrary code during unpickling (See https://github.com/pytorch/pytorch/blob/main/SECURITY.md#untrusted-models for more details). In a future release, the default value for `weights_only` will be flipped to `True`. This limits the functions that could be executed during unpickling. Arbitrary objects will no longer be allowed to be loaded via this mode unless they are explicitly allowlisted by the user via `torch.serialization.add_safe_globals`. We recommend you start setting `weights_only=True` for any use case where you don't have full control of the loaded file. Please open an issue on GitHub for any issues related to this experimental feature.\n",
      "  checkpoint = torch.load(fp, map_location=device)\n"
     ]
    }
   ],
   "source": [
    "model = whisper.load_model(\"small\")"
   ]
  },
  {
   "cell_type": "code",
   "execution_count": 31,
   "metadata": {},
   "outputs": [],
   "source": [
    "result = model.transcribe(\"/home/user/News_Reader_CharacterVoice/konanvoice.wav\")"
   ]
  },
  {
   "cell_type": "code",
   "execution_count": 20,
   "metadata": {},
   "outputs": [
    {
     "data": {
      "text/plain": [
       "' 사인은 아마도 경추 손상에 의한 질식사. 흉기는 끝이 뾰족한 얼음성국 같은 거고요. 흉기에 찔리기 전에 어떤 약품을 마시고 정신을 잃었을 가능성이 큽니다. 그것까지는 아직 알 수 없어요. 하지만 걱정하지 마세요. 어민은 아직 태풍량 상공을 날고 있는 이 비행기 안에 있을 테니까요. 절대 도망 못 칩니다. 제 이름은 남도일. 탐정이죠. 반장님 지금은 반장님과 말씨름 하고 있어요. 시간이 없습니다. 그 도독 녀석을 잡고 싶으시면 제 지시를 따라주십시오. 외도키드는 지금 어맹준의 정체를 들키는 바람에 흔들리고 있을 겁니다. 미리 짜돈 '"
      ]
     },
     "execution_count": 20,
     "metadata": {},
     "output_type": "execute_result"
    }
   ],
   "source": [
    "result[\"text\"][:300]"
   ]
  },
  {
   "cell_type": "code",
   "execution_count": 22,
   "metadata": {},
   "outputs": [
    {
     "name": "stdout",
     "output_type": "stream",
     "text": [
      "[0.00 --> 5.76]  사인은 아마도 경추 손상에 의한 질식사.\n",
      "[5.76 --> 10.40]  흉기는 끝이 뾰족한 얼음성국 같은 거고요.\n",
      "[10.40 --> 14.16]  흉기에 찔리기 전에 어떤 약품을 마시고 정신을 잃었을 가능성이\n",
      "[14.16 --> 15.16]  큽니다.\n",
      "[15.16 --> 19.08]  그것까지는 아직 알 수 없어요.\n",
      "[19.08 --> 21.12]  하지만 걱정하지 마세요.\n",
      "[21.12 --> 26.84]  어민은 아직 태풍량 상공을 날고 있는 이 비행기 안에 있을 테니까요.\n",
      "[26.84 --> 29.44]  절대 도망 못 칩니다.\n",
      "[29.44 --> 31.40]  제 이름은 남도일.\n",
      "[31.40 --> 33.40]  탐정이죠.\n",
      "[33.40 --> 36.88]  반장님 지금은 반장님과 말씨름 하고 있어요.\n",
      "[36.88 --> 38.38]  시간이 없습니다.\n",
      "[38.38 --> 41.96]  그 도독 녀석을 잡고 싶으시면 제 지시를 따라주십시오.\n",
      "[41.96 --> 46.92]  외도키드는 지금 어맹준의 정체를 들키는 바람에 흔들리고 있을 겁니다.\n",
      "[46.92 --> 50.00]  미리 짜돈 계획의 단추를 잘못 채운 거죠.\n",
      "[50.00 --> 55.76]  지금이 체포할 수 있는 좋은 기회입니다.\n",
      "[55.76 --> 57.48]  저만인가요?\n",
      "[57.48 --> 61.80]  제 이름은 남도일.\n",
      "[61.80 --> 65.56]  탐정이죠.\n",
      "[65.56 --> 68.08]  상어랑 비슷하거든.\n",
      "[68.08 --> 72.44]  어디선가 나는 피냄새에 이끌려서 현정에 간 다음 자신이 가진 모든\n",
      "[72.44 --> 75.76]  감각을 다 동원해서 범인을 찾아내지.\n",
      "[75.76 --> 79.80]  그리고 범인을 잡으면 증거라는 날카로운 이빨로 물고 늘어지면서\n",
      "[79.80 --> 82.80]  포기하게 만들어.\n",
      "[82.80 --> 85.88]  그게 바로 탐정이야.\n",
      "[85.88 --> 88.68]  멍청아.\n",
      "[88.68 --> 91.40]  추리에 이기고치는 게 어디 있어?\n",
      "[91.40 --> 94.84]  위도 아래도 없는 거라고.\n",
      "[94.84 --> 101.40]  단지 하나밖에 없는 진질만을 찾아서 달려갈 뿐이지.\n",
      "[101.40 --> 104.48]  사람이 사람을 해치는 데엔 동기가 있을지 모르지만\n",
      "[104.48 --> 108.36]  사람이 사람을 구하는 이유는\n",
      "[108.36 --> 111.96]  논리적으로 설명할 수 있는 게 아니거든.\n",
      "[111.96 --> 114.04]  뭐? 러브는 재료라고?\n",
      "[114.04 --> 115.80]  그런 게 어딨니?\n",
      "[115.80 --> 117.76]  안 뒤에 영한테 가서 말해.\n",
      "[117.76 --> 120.00]  재료는 모든 일의 시작이야.\n",
      "[120.00 --> 123.08]  출발하지 않고 가만히 있으면 아무것도 안 돼.\n",
      "[123.08 --> 125.80]  그리고 어떤 일도 해낼 수가 없다고.\n",
      "[125.80 --> 126.60]  꼭 그렇게 말해.\n"
     ]
    }
   ],
   "source": [
    "for r in result['segments']:\n",
    "    print(f'[{r[\"start\"]:.2f} --> {r[\"end\"]:.2f}] {r[\"text\"]}')"
   ]
  },
  {
   "cell_type": "code",
   "execution_count": 33,
   "metadata": {},
   "outputs": [
    {
     "name": "stdout",
     "output_type": "stream",
     "text": [
      "\u001b[1;35m[out#0/wav @ 0x55ae07c8cc00] \u001b[0m\u001b[4;31mError opening output wavs/audio1.wav: No such file or directory\n",
      "\u001b[0m\u001b[1;31mError opening output file wavs/audio1.wav.\n",
      "\u001b[0m\u001b[4;31mError opening output files: No such file or directory\n",
      "\u001b[0m\u001b[1;35m[out#0/wav @ 0x55b3d3e34c00] \u001b[0m\u001b[4;31mError opening output wavs/audio2.wav: No such file or directory\n",
      "\u001b[0m\u001b[1;31mError opening output file wavs/audio2.wav.\n",
      "\u001b[0m\u001b[4;31mError opening output files: No such file or directory\n",
      "\u001b[0m\u001b[1;35m[out#0/wav @ 0x55e477911c00] \u001b[0m\u001b[4;31mError opening output wavs/audio3.wav: No such file or directory\n",
      "\u001b[0m\u001b[1;31mError opening output file wavs/audio3.wav.\n",
      "\u001b[0m\u001b[4;31mError opening output files: No such file or directory\n",
      "\u001b[0m\u001b[1;35m[out#0/wav @ 0x55911da2dc00] \u001b[0m\u001b[4;31mError opening output wavs/audio4.wav: No such file or directory\n",
      "\u001b[0m\u001b[1;31mError opening output file wavs/audio4.wav.\n",
      "\u001b[0m\u001b[4;31mError opening output files: No such file or directory\n",
      "\u001b[0m\u001b[1;35m[out#0/wav @ 0x559b304ddc00] \u001b[0m\u001b[4;31mError opening output wavs/audio5.wav: No such file or directory\n",
      "\u001b[0m\u001b[1;31mError opening output file wavs/audio5.wav.\n",
      "\u001b[0m\u001b[4;31mError opening output files: No such file or directory\n",
      "\u001b[0m\u001b[1;35m[out#0/wav @ 0x5583ebb98c00] \u001b[0m\u001b[4;31mError opening output wavs/audio6.wav: No such file or directory\n",
      "\u001b[0m\u001b[1;31mError opening output file wavs/audio6.wav.\n",
      "\u001b[0m\u001b[4;31mError opening output files: No such file or directory\n",
      "\u001b[0m\u001b[1;35m[out#0/wav @ 0x55a7cca97c00] \u001b[0m\u001b[4;31mError opening output wavs/audio7.wav: No such file or directory\n",
      "\u001b[0m\u001b[1;31mError opening output file wavs/audio7.wav.\n",
      "\u001b[0m\u001b[4;31mError opening output files: No such file or directory\n",
      "\u001b[0m\u001b[1;35m[out#0/wav @ 0x56273e0a1c00] \u001b[0m\u001b[4;31mError opening output wavs/audio8.wav: No such file or directory\n",
      "\u001b[0m\u001b[1;31mError opening output file wavs/audio8.wav.\n",
      "\u001b[0m\u001b[4;31mError opening output files: No such file or directory\n",
      "\u001b[0m\u001b[1;35m[out#0/wav @ 0x56346350cc00] \u001b[0m\u001b[4;31mError opening output wavs/audio9.wav: No such file or directory\n",
      "\u001b[0m\u001b[1;31mError opening output file wavs/audio9.wav.\n",
      "\u001b[0m\u001b[4;31mError opening output files: No such file or directory\n",
      "\u001b[0m\u001b[1;35m[out#0/wav @ 0x564d0425ac00] \u001b[0m\u001b[4;31mError opening output wavs/audio10.wav: No such file or directory\n",
      "\u001b[0m\u001b[1;31mError opening output file wavs/audio10.wav.\n",
      "\u001b[0m\u001b[4;31mError opening output files: No such file or directory\n",
      "\u001b[0m\u001b[1;35m[out#0/wav @ 0x56362d8a0c00] \u001b[0m\u001b[4;31mError opening output wavs/audio11.wav: No such file or directory\n",
      "\u001b[0m\u001b[1;31mError opening output file wavs/audio11.wav.\n",
      "\u001b[0m\u001b[4;31mError opening output files: No such file or directory\n",
      "\u001b[0m\u001b[1;35m[out#0/wav @ 0x560b1fd0ec00] \u001b[0m\u001b[4;31mError opening output wavs/audio12.wav: No such file or directory\n",
      "\u001b[0m\u001b[1;31mError opening output file wavs/audio12.wav.\n",
      "\u001b[0m\u001b[4;31mError opening output files: No such file or directory\n",
      "\u001b[0m\u001b[1;35m[out#0/wav @ 0x5570ac91bc00] \u001b[0m\u001b[4;31mError opening output wavs/audio13.wav: No such file or directory\n",
      "\u001b[0m\u001b[1;31mError opening output file wavs/audio13.wav.\n",
      "\u001b[0m\u001b[4;31mError opening output files: No such file or directory\n",
      "\u001b[0m\u001b[1;35m[out#0/wav @ 0x56550b7a4c00] \u001b[0m\u001b[4;31mError opening output wavs/audio14.wav: No such file or directory\n",
      "\u001b[0m\u001b[1;31mError opening output file wavs/audio14.wav.\n",
      "\u001b[0m\u001b[4;31mError opening output files: No such file or directory\n",
      "\u001b[0m\u001b[1;35m[out#0/wav @ 0x55b131bbcc00] \u001b[0m\u001b[4;31mError opening output wavs/audio15.wav: No such file or directory\n",
      "\u001b[0m\u001b[1;31mError opening output file wavs/audio15.wav.\n",
      "\u001b[0m\u001b[4;31mError opening output files: No such file or directory\n",
      "\u001b[0m\u001b[1;35m[out#0/wav @ 0x564992c6ec00] \u001b[0m\u001b[4;31mError opening output wavs/audio16.wav: No such file or directory\n",
      "\u001b[0m\u001b[1;31mError opening output file wavs/audio16.wav.\n",
      "\u001b[0m\u001b[4;31mError opening output files: No such file or directory\n",
      "\u001b[0m\u001b[1;35m[out#0/wav @ 0x5618c736ac00] \u001b[0m\u001b[4;31mError opening output wavs/audio17.wav: No such file or directory\n",
      "\u001b[0m\u001b[1;31mError opening output file wavs/audio17.wav.\n",
      "\u001b[0m\u001b[4;31mError opening output files: No such file or directory\n",
      "\u001b[0m\u001b[1;35m[out#0/wav @ 0x557345ebac00] \u001b[0m\u001b[4;31mError opening output wavs/audio18.wav: No such file or directory\n",
      "\u001b[0m\u001b[1;31mError opening output file wavs/audio18.wav.\n",
      "\u001b[0m\u001b[4;31mError opening output files: No such file or directory\n",
      "\u001b[0m\u001b[1;35m[out#0/wav @ 0x55be68b16c00] \u001b[0m\u001b[4;31mError opening output wavs/audio19.wav: No such file or directory\n",
      "\u001b[0m\u001b[1;31mError opening output file wavs/audio19.wav.\n",
      "\u001b[0m\u001b[4;31mError opening output files: No such file or directory\n",
      "\u001b[0m\u001b[1;35m[out#0/wav @ 0x56385bcafc00] \u001b[0m\u001b[4;31mError opening output wavs/audio20.wav: No such file or directory\n",
      "\u001b[0m\u001b[1;31mError opening output file wavs/audio20.wav.\n",
      "\u001b[0m\u001b[4;31mError opening output files: No such file or directory\n",
      "\u001b[0m\u001b[1;35m[out#0/wav @ 0x55f3957d2c00] \u001b[0m\u001b[4;31mError opening output wavs/audio21.wav: No such file or directory\n",
      "\u001b[0m\u001b[1;31mError opening output file wavs/audio21.wav.\n",
      "\u001b[0m\u001b[4;31mError opening output files: No such file or directory\n",
      "\u001b[0m\u001b[1;35m[out#0/wav @ 0x5635d4eadc00] \u001b[0m\u001b[4;31mError opening output wavs/audio22.wav: No such file or directory\n",
      "\u001b[0m\u001b[1;31mError opening output file wavs/audio22.wav.\n",
      "\u001b[0m\u001b[4;31mError opening output files: No such file or directory\n",
      "\u001b[0m\u001b[1;35m[out#0/wav @ 0x5598097b7c00] \u001b[0m\u001b[4;31mError opening output wavs/audio23.wav: No such file or directory\n",
      "\u001b[0m\u001b[1;31mError opening output file wavs/audio23.wav.\n",
      "\u001b[0m\u001b[4;31mError opening output files: No such file or directory\n",
      "\u001b[0m\u001b[1;35m[out#0/wav @ 0x559fab1aec00] \u001b[0m\u001b[4;31mError opening output wavs/audio24.wav: No such file or directory\n",
      "\u001b[0m\u001b[1;31mError opening output file wavs/audio24.wav.\n",
      "\u001b[0m\u001b[4;31mError opening output files: No such file or directory\n",
      "\u001b[0m\u001b[1;35m[out#0/wav @ 0x55f4b1f05c00] \u001b[0m\u001b[4;31mError opening output wavs/audio25.wav: No such file or directory\n",
      "\u001b[0m\u001b[1;31mError opening output file wavs/audio25.wav.\n",
      "\u001b[0m\u001b[4;31mError opening output files: No such file or directory\n",
      "\u001b[0m\u001b[1;35m[out#0/wav @ 0x565471c13c00] \u001b[0m\u001b[4;31mError opening output wavs/audio26.wav: No such file or directory\n",
      "\u001b[0m\u001b[1;31mError opening output file wavs/audio26.wav.\n",
      "\u001b[0m\u001b[4;31mError opening output files: No such file or directory\n",
      "\u001b[0m\u001b[1;35m[out#0/wav @ 0x56278828dc00] \u001b[0m\u001b[4;31mError opening output wavs/audio27.wav: No such file or directory\n",
      "\u001b[0m\u001b[1;31mError opening output file wavs/audio27.wav.\n",
      "\u001b[0m\u001b[4;31mError opening output files: No such file or directory\n",
      "\u001b[0m\u001b[1;35m[out#0/wav @ 0x560fe553ac00] \u001b[0m\u001b[4;31mError opening output wavs/audio28.wav: No such file or directory\n",
      "\u001b[0m\u001b[1;31mError opening output file wavs/audio28.wav.\n",
      "\u001b[0m\u001b[4;31mError opening output files: No such file or directory\n",
      "\u001b[0m\u001b[1;35m[out#0/wav @ 0x562f9ffc9c00] \u001b[0m\u001b[4;31mError opening output wavs/audio29.wav: No such file or directory\n",
      "\u001b[0m\u001b[1;31mError opening output file wavs/audio29.wav.\n",
      "\u001b[0m\u001b[4;31mError opening output files: No such file or directory\n",
      "\u001b[0m\u001b[1;35m[out#0/wav @ 0x559111f6ac00] \u001b[0m\u001b[4;31mError opening output wavs/audio30.wav: No such file or directory\n",
      "\u001b[0m\u001b[1;31mError opening output file wavs/audio30.wav.\n",
      "\u001b[0m\u001b[4;31mError opening output files: No such file or directory\n",
      "\u001b[0m\u001b[1;35m[out#0/wav @ 0x55dfa3465c00] \u001b[0m\u001b[4;31mError opening output wavs/audio31.wav: No such file or directory\n",
      "\u001b[0m\u001b[1;31mError opening output file wavs/audio31.wav.\n",
      "\u001b[0m\u001b[4;31mError opening output files: No such file or directory\n",
      "\u001b[0m\u001b[1;35m[out#0/wav @ 0x55f9be435c00] \u001b[0m\u001b[4;31mError opening output wavs/audio32.wav: No such file or directory\n",
      "\u001b[0m\u001b[1;31mError opening output file wavs/audio32.wav.\n",
      "\u001b[0m\u001b[4;31mError opening output files: No such file or directory\n",
      "\u001b[0m\u001b[1;35m[out#0/wav @ 0x55da9b46ac00] \u001b[0m\u001b[4;31mError opening output wavs/audio33.wav: No such file or directory\n",
      "\u001b[0m\u001b[1;31mError opening output file wavs/audio33.wav.\n",
      "\u001b[0m\u001b[4;31mError opening output files: No such file or directory\n",
      "\u001b[0m\u001b[1;35m[out#0/wav @ 0x557e03e4fc00] \u001b[0m\u001b[4;31mError opening output wavs/audio34.wav: No such file or directory\n",
      "\u001b[0m\u001b[1;31mError opening output file wavs/audio34.wav.\n",
      "\u001b[0m\u001b[4;31mError opening output files: No such file or directory\n",
      "\u001b[0m\u001b[1;35m[out#0/wav @ 0x55b381d5ac00] \u001b[0m\u001b[4;31mError opening output wavs/audio35.wav: No such file or directory\n",
      "\u001b[0m\u001b[1;31mError opening output file wavs/audio35.wav.\n",
      "\u001b[0m\u001b[4;31mError opening output files: No such file or directory\n",
      "\u001b[0m\u001b[1;35m[out#0/wav @ 0x564f275c9c00] \u001b[0m\u001b[4;31mError opening output wavs/audio36.wav: No such file or directory\n",
      "\u001b[0m\u001b[1;31mError opening output file wavs/audio36.wav.\n",
      "\u001b[0m\u001b[4;31mError opening output files: No such file or directory\n",
      "\u001b[0m\u001b[1;35m[out#0/wav @ 0x55d0f7d90c00] \u001b[0m\u001b[4;31mError opening output wavs/audio37.wav: No such file or directory\n",
      "\u001b[0m\u001b[1;31mError opening output file wavs/audio37.wav.\n",
      "\u001b[0m\u001b[4;31mError opening output files: No such file or directory\n",
      "\u001b[0m\u001b[1;35m[out#0/wav @ 0x5593a13ccc00] \u001b[0m\u001b[4;31mError opening output wavs/audio38.wav: No such file or directory\n",
      "\u001b[0m\u001b[1;31mError opening output file wavs/audio38.wav.\n",
      "\u001b[0m\u001b[4;31mError opening output files: No such file or directory\n",
      "\u001b[0m\u001b[1;35m[out#0/wav @ 0x563b9bae9c00] \u001b[0m\u001b[4;31mError opening output wavs/audio39.wav: No such file or directory\n",
      "\u001b[0m\u001b[1;31mError opening output file wavs/audio39.wav.\n",
      "\u001b[0m\u001b[4;31mError opening output files: No such file or directory\n",
      "\u001b[0m"
     ]
    }
   ],
   "source": [
    "for i, r in enumerate(result['segments']):\n",
    "    !ffmpeg -y -i /home/user/News_Reader_CharacterVoice/konanvoice.wav -ss {r[\"start\"]} -to {r[\"end\"]} -hide_banner -loglevel error wavs/audio{i+1}.wav\n"
   ]
  },
  {
   "cell_type": "code",
   "execution_count": null,
   "metadata": {},
   "outputs": [],
   "source": []
  }
 ],
 "metadata": {
  "kernelspec": {
   "display_name": "vllm_env",
   "language": "python",
   "name": "python3"
  },
  "language_info": {
   "codemirror_mode": {
    "name": "ipython",
    "version": 3
   },
   "file_extension": ".py",
   "mimetype": "text/x-python",
   "name": "python",
   "nbconvert_exporter": "python",
   "pygments_lexer": "ipython3",
   "version": "3.11.9"
  }
 },
 "nbformat": 4,
 "nbformat_minor": 2
}
